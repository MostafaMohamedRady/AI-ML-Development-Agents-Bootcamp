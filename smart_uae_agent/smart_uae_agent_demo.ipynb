{
  "cells": [
    {
      "cell_type": "markdown",
      "metadata": {},
      "source": [
        "# Smart UAE Agent \u2013 Notebook Demo\n",
        "\n",
        "This notebook demonstrates the LangChain-based agent for the UAE tourism assistant."
      ]
    },
    {
      "cell_type": "code",
      "execution_count": null,
      "metadata": {},
      "outputs": [],
      "source": [
        "import sys, os, json\n",
        "print('Python', sys.version)\n",
        "print('GOOGLE_API_KEY set?', bool(os.getenv('GOOGLE_API_KEY') or os.getenv('GENAI_API_KEY')))"
      ]
    },
    {
      "cell_type": "markdown",
      "metadata": {},
      "source": [
        "## Install requirements (run once)"
      ]
    },
    {
      "cell_type": "code",
      "execution_count": null,
      "metadata": {
        "trusted": true
      },
      "outputs": [],
      "source": [
        "!pip -q install -U langchain langchain-google-genai langchain-community requests"
      ]
    },
    {
      "cell_type": "markdown",
      "metadata": {},
      "source": [
        "## Load the agent"
      ]
    },
    {
      "cell_type": "code",
      "execution_count": null,
      "metadata": {
        "trusted": true
      },
      "outputs": [],
      "source": [
        "from smart_uae_agent import SmartUAEAgent, SmartUAEAgentConfig\n",
        "cfg = SmartUAEAgentConfig(knowledge_path='uae_knowledge.json', model_name='gemini-1.5-flash', temperature=0.3, verbose=False)\n",
        "agent = SmartUAEAgent(cfg)\n",
        "print('Agent ready.')"
      ]
    },
    {
      "cell_type": "markdown",
      "metadata": {},
      "source": [
        "## Example queries"
      ]
    },
    {
      "cell_type": "code",
      "execution_count": null,
      "metadata": {
        "trusted": true
      },
      "outputs": [],
      "source": [
        "print(agent.chat('What can I do in Dubai for 2 days?'))\n",
        "print('\\n---\\n')\n",
        "print(agent.chat('List top cultural tips for visiting the UAE'))\n",
        "print('\\n---\\n')\n",
        "print(agent.chat('Give me prayer times in Abu Dhabi for 2025-08-24'))\n",
        "print('\\n---\\n')\n",
        "print(agent.chat('Estimate a 5-day luxury trip in Dubai.'))"
      ]
    }
  ],
  "metadata": {
    "kernelspec": {
      "display_name": "Python 3",
      "language": "python",
      "name": "python3"
    },
    "language_info": {
      "name": "python",
      "version": "3.x"
    }
  },
  "nbformat": 4,
  "nbformat_minor": 5
}